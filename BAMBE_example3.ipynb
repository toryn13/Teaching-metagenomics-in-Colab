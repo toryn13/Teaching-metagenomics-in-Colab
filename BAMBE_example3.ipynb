{
  "nbformat": 4,
  "nbformat_minor": 0,
  "metadata": {
    "colab": {
      "name": "BAMBE_example3.ipynb",
      "provenance": [],
      "collapsed_sections": [
        "zzCVCUZqMnM_",
        "Wx97JQhAzjF6",
        "Az9iyX6Kmw0P",
        "snajChlWy88o"
      ],
      "include_colab_link": true
    },
    "kernelspec": {
      "name": "python3",
      "display_name": "Python 3"
    }
  },
  "cells": [
    {
      "cell_type": "markdown",
      "metadata": {
        "id": "view-in-github",
        "colab_type": "text"
      },
      "source": [
        "<a href=\"https://colab.research.google.com/github/toryn13/Teaching-metagenomics-in-Colab/blob/main/BAMBE_example3.ipynb\" target=\"_parent\"><img src=\"https://colab.research.google.com/assets/colab-badge.svg\" alt=\"Open In Colab\"/></a>"
      ]
    },
    {
      "cell_type": "markdown",
      "metadata": {
        "id": "g6MeEa4CEl8M"
      },
      "source": [
        "# **Tutorial example**\n",
        "Examples based on https://docs.qiime2.org/2021.4/tutorials/"
      ]
    },
    {
      "cell_type": "markdown",
      "metadata": {
        "id": "llcnVBk0nbOL"
      },
      "source": [
        "Google Colab is virtual Python environment, any code we enter, Colab thinks is Python. Colab is a virtual machine (VM), to access add an exclamation mark at a the start of your code. In some cases below we use %%bash at the top of the cell. In this case the cell is switched to bash script (can also use %%perl for example).\n",
        "\n",
        "If you leave the notebook it will save any changes, but after a few hours all the files will be lost and you'll have to re-import them. It is import to run the cells in the correct order."
      ]
    },
    {
      "cell_type": "code",
      "metadata": {
        "colab": {
          "base_uri": "https://localhost:8080/",
          "height": 156
        },
        "id": "U0BPqMDJ5k1O",
        "outputId": "73ada177-72ab-49d1-9432-f17bc4bcf753"
      },
      "source": [
        "%lsmagic"
      ],
      "execution_count": null,
      "outputs": [
        {
          "output_type": "execute_result",
          "data": {
            "application/json": {
              "cell": {
                "prun": "ExecutionMagics",
                "file": "Other",
                "!": "OSMagics",
                "capture": "ExecutionMagics",
                "timeit": "ExecutionMagics",
                "script": "ScriptMagics",
                "pypy": "Other",
                "system": "OSMagics",
                "perl": "Other",
                "html": "DisplayMagics",
                "bash": "Other",
                "shell": "Other",
                "HTML": "Other",
                "python": "Other",
                "SVG": "Other",
                "javascript": "DisplayMagics",
                "bigquery": "Other",
                "js": "DisplayMagics",
                "writefile": "OSMagics",
                "ruby": "Other",
                "python3": "Other",
                "python2": "Other",
                "latex": "DisplayMagics",
                "sx": "OSMagics",
                "svg": "DisplayMagics",
                "sh": "Other",
                "time": "ExecutionMagics",
                "debug": "ExecutionMagics"
              },
              "line": {
                "psource": "NamespaceMagics",
                "logstart": "LoggingMagics",
                "popd": "OSMagics",
                "tensorflow_version": "Other",
                "loadpy": "CodeMagics",
                "colors": "BasicMagics",
                "who_ls": "NamespaceMagics",
                "lf": "Other",
                "ll": "Other",
                "pprint": "BasicMagics",
                "lk": "Other",
                "ls": "Other",
                "save": "CodeMagics",
                "tb": "ExecutionMagics",
                "lx": "Other",
                "pylab": "PylabMagics",
                "killbgscripts": "ScriptMagics",
                "quickref": "BasicMagics",
                "magic": "BasicMagics",
                "dhist": "OSMagics",
                "edit": "KernelMagics",
                "logstop": "LoggingMagics",
                "gui": "BasicMagics",
                "prun": "ExecutionMagics",
                "debug": "ExecutionMagics",
                "page": "BasicMagics",
                "logstate": "LoggingMagics",
                "ed": "Other",
                "pushd": "OSMagics",
                "timeit": "ExecutionMagics",
                "set_env": "OSMagics",
                "rehashx": "OSMagics",
                "hist": "Other",
                "qtconsole": "KernelMagics",
                "rm": "Other",
                "dirs": "OSMagics",
                "run": "ExecutionMagics",
                "reset_selective": "NamespaceMagics",
                "pinfo2": "NamespaceMagics",
                "matplotlib": "PylabMagics",
                "unload_ext": "ExtensionMagics",
                "doctest_mode": "BasicMagics",
                "logoff": "LoggingMagics",
                "reload_ext": "ExtensionMagics",
                "pdb": "ExecutionMagics",
                "load": "CodeMagics",
                "lsmagic": "BasicMagics",
                "autosave": "KernelMagics",
                "cd": "OSMagics",
                "pastebin": "CodeMagics",
                "alias_magic": "BasicMagics",
                "cp": "Other",
                "autocall": "AutoMagics",
                "ldir": "Other",
                "bookmark": "OSMagics",
                "connect_info": "KernelMagics",
                "mkdir": "Other",
                "system": "OSMagics",
                "whos": "NamespaceMagics",
                "rmdir": "Other",
                "automagic": "AutoMagics",
                "store": "StoreMagics",
                "more": "KernelMagics",
                "shell": "Other",
                "pdef": "NamespaceMagics",
                "precision": "BasicMagics",
                "pinfo": "NamespaceMagics",
                "pwd": "OSMagics",
                "psearch": "NamespaceMagics",
                "reset": "NamespaceMagics",
                "recall": "HistoryMagics",
                "xdel": "NamespaceMagics",
                "xmode": "BasicMagics",
                "cat": "Other",
                "mv": "Other",
                "rerun": "HistoryMagics",
                "logon": "LoggingMagics",
                "history": "HistoryMagics",
                "pycat": "OSMagics",
                "pip": "Other",
                "unalias": "OSMagics",
                "env": "OSMagics",
                "load_ext": "ExtensionMagics",
                "config": "ConfigMagics",
                "profile": "BasicMagics",
                "pfile": "NamespaceMagics",
                "less": "KernelMagics",
                "who": "NamespaceMagics",
                "notebook": "BasicMagics",
                "man": "KernelMagics",
                "sx": "OSMagics",
                "macro": "ExecutionMagics",
                "clear": "KernelMagics",
                "alias": "OSMagics",
                "time": "ExecutionMagics",
                "sc": "OSMagics",
                "rep": "Other",
                "pdoc": "NamespaceMagics"
              }
            },
            "text/plain": [
              "Available line magics:\n",
              "%alias  %alias_magic  %autocall  %automagic  %autosave  %bookmark  %cat  %cd  %clear  %colors  %config  %connect_info  %cp  %debug  %dhist  %dirs  %doctest_mode  %ed  %edit  %env  %gui  %hist  %history  %killbgscripts  %ldir  %less  %lf  %lk  %ll  %load  %load_ext  %loadpy  %logoff  %logon  %logstart  %logstate  %logstop  %ls  %lsmagic  %lx  %macro  %magic  %man  %matplotlib  %mkdir  %more  %mv  %notebook  %page  %pastebin  %pdb  %pdef  %pdoc  %pfile  %pinfo  %pinfo2  %pip  %popd  %pprint  %precision  %profile  %prun  %psearch  %psource  %pushd  %pwd  %pycat  %pylab  %qtconsole  %quickref  %recall  %rehashx  %reload_ext  %rep  %rerun  %reset  %reset_selective  %rm  %rmdir  %run  %save  %sc  %set_env  %shell  %store  %sx  %system  %tb  %tensorflow_version  %time  %timeit  %unalias  %unload_ext  %who  %who_ls  %whos  %xdel  %xmode\n",
              "\n",
              "Available cell magics:\n",
              "%%!  %%HTML  %%SVG  %%bash  %%bigquery  %%capture  %%debug  %%file  %%html  %%javascript  %%js  %%latex  %%perl  %%prun  %%pypy  %%python  %%python2  %%python3  %%ruby  %%script  %%sh  %%shell  %%svg  %%sx  %%system  %%time  %%timeit  %%writefile\n",
              "\n",
              "Automagic is ON, % prefix IS NOT needed for line magics."
            ]
          },
          "metadata": {
            "tags": []
          },
          "execution_count": 1
        }
      ]
    },
    {
      "cell_type": "markdown",
      "metadata": {
        "id": "d9i8Gh_0O94u"
      },
      "source": [
        "For example, if you miss the ! you'll get an error"
      ]
    },
    {
      "cell_type": "code",
      "metadata": {
        "id": "dPUrJLh7zSih",
        "colab": {
          "base_uri": "https://localhost:8080/",
          "height": 130
        },
        "outputId": "ad35d3d2-5cca-4cf5-e604-d037514948e8"
      },
      "source": [
        "echo \"hello world\" "
      ],
      "execution_count": null,
      "outputs": [
        {
          "output_type": "error",
          "ename": "SyntaxError",
          "evalue": "ignored",
          "traceback": [
            "\u001b[0;36m  File \u001b[0;32m\"<ipython-input-46-c6f2567eb00d>\"\u001b[0;36m, line \u001b[0;32m1\u001b[0m\n\u001b[0;31m    echo \"hello world\"\u001b[0m\n\u001b[0m                     ^\u001b[0m\n\u001b[0;31mSyntaxError\u001b[0m\u001b[0;31m:\u001b[0m invalid syntax\n"
          ]
        }
      ]
    },
    {
      "cell_type": "code",
      "metadata": {
        "colab": {
          "base_uri": "https://localhost:8080/"
        },
        "id": "LXIyqCRGrp7X",
        "outputId": "c1c9906f-494b-4dc8-8e8b-275c8ab7ef4c"
      },
      "source": [
        "!echo \"hello world\" "
      ],
      "execution_count": null,
      "outputs": [
        {
          "output_type": "stream",
          "text": [
            "hello world\n"
          ],
          "name": "stdout"
        }
      ]
    },
    {
      "cell_type": "markdown",
      "metadata": {
        "id": "fZGml4hKUSdm"
      },
      "source": [
        "Copy the files from  this folder, add the folder to your google drvie https://drive.google.com/drive/folders/17WHue0ZlKeiNzbvrfMxKjWDNyBE2F0Qu?usp=sharing\n",
        "\n",
        "To add this folder, in your drive, click on **Shared with me** on the left under **New**\n",
        "\n",
        "Right click courseworkdemo and select **Add shortcut to drive**"
      ]
    },
    {
      "cell_type": "markdown",
      "metadata": {
        "id": "RhoMBvVbPYsc"
      },
      "source": [
        "Add your Google Drive and import the fastq files, and qza, qzv files"
      ]
    },
    {
      "cell_type": "code",
      "metadata": {
        "id": "fRUbzgEFPX_o",
        "colab": {
          "base_uri": "https://localhost:8080/"
        },
        "outputId": "caa1219a-1991-4335-87bb-80b78e4c1cd1"
      },
      "source": [
        "from google.colab import drive\n",
        "drive.mount('/content/drive')"
      ],
      "execution_count": null,
      "outputs": [
        {
          "output_type": "stream",
          "text": [
            "Mounted at /content/drive\n"
          ],
          "name": "stdout"
        }
      ]
    },
    {
      "cell_type": "code",
      "metadata": {
        "id": "VNKaF581ccam",
        "colab": {
          "base_uri": "https://localhost:8080/"
        },
        "outputId": "b24c8fea-f6c1-435b-9d77-69b6fc444491"
      },
      "source": [
        "!cp /content/drive/MyDrive/courseworkdemo/*.gz /content/sample_data/\n",
        "!cp /content/drive/MyDrive/courseworkdemo/*.txt /content/sample_data/\n",
        "!cp /content/drive/MyDrive/courseworkdemo/*.qz* /content/sample_data/"
      ],
      "execution_count": null,
      "outputs": [
        {
          "output_type": "stream",
          "text": [
            "cp: cannot stat '/content/drive/MyDrive/courseworkdemo/*.gz': No such file or directory\n",
            "cp: cannot stat '/content/drive/MyDrive/courseworkdemo/*.txt': No such file or directory\n",
            "cp: cannot stat '/content/drive/MyDrive/courseworkdemo/*.qz*': No such file or directory\n"
          ],
          "name": "stdout"
        }
      ]
    },
    {
      "cell_type": "markdown",
      "metadata": {
        "id": "CXiKLI0BOybM"
      },
      "source": [
        "# 1. Set up Conda Colab and QIIME2"
      ]
    },
    {
      "cell_type": "code",
      "source": [
        "!pip install -q condacolab\n",
        "import condacolab\n",
        "condacolab.install()"
      ],
      "metadata": {
        "id": "MDk7MrRHSkft",
        "colab": {
          "base_uri": "https://localhost:8080/"
        },
        "outputId": "98df75a7-b471-4c54-e948-2dee5fbc60a3"
      },
      "execution_count": null,
      "outputs": [
        {
          "output_type": "stream",
          "name": "stdout",
          "text": [
            "⏬ Downloading https://github.com/jaimergp/miniforge/releases/latest/download/Mambaforge-colab-Linux-x86_64.sh...\n",
            "📦 Installing...\n",
            "📌 Adjusting configuration...\n",
            "🩹 Patching environment...\n",
            "⏲ Done in 0:00:26\n",
            "🔁 Restarting kernel...\n"
          ]
        }
      ]
    },
    {
      "cell_type": "code",
      "source": [
        "import condacolab\n",
        "condacolab.check()"
      ],
      "metadata": {
        "colab": {
          "base_uri": "https://localhost:8080/"
        },
        "id": "uA4SkAMlSrT4",
        "outputId": "6ca665de-858f-4a0d-e9de-7cba7d4281fc"
      },
      "execution_count": null,
      "outputs": [
        {
          "output_type": "stream",
          "name": "stdout",
          "text": [
            "✨🍰✨ Everything looks OK!\n"
          ]
        }
      ]
    },
    {
      "cell_type": "markdown",
      "source": [
        "Check for the latest version of QIIME2"
      ],
      "metadata": {
        "id": "mAZN1XKHXYjk"
      }
    },
    {
      "cell_type": "code",
      "metadata": {
        "colab": {
          "base_uri": "https://localhost:8080/"
        },
        "id": "iuEwG2Qs1STx",
        "outputId": "05960a53-4e7e-4e0a-93cf-f05f268f8b5c"
      },
      "source": [
        "!wget https://data.qiime2.org/distro/core/qiime2-2021.11-py38-linux-conda.yml"
      ],
      "execution_count": null,
      "outputs": [
        {
          "output_type": "stream",
          "name": "stdout",
          "text": [
            "--2022-03-08 11:56:28--  https://data.qiime2.org/distro/core/qiime2-2021.11-py38-linux-conda.yml\n",
            "Resolving data.qiime2.org (data.qiime2.org)... 54.200.1.12\n",
            "Connecting to data.qiime2.org (data.qiime2.org)|54.200.1.12|:443... connected.\n",
            "HTTP request sent, awaiting response... 302 FOUND\n",
            "Location: https://raw.githubusercontent.com/qiime2/environment-files/master/2021.11/release/qiime2-2021.11-py38-linux-conda.yml [following]\n",
            "--2022-03-08 11:56:28--  https://raw.githubusercontent.com/qiime2/environment-files/master/2021.11/release/qiime2-2021.11-py38-linux-conda.yml\n",
            "Resolving raw.githubusercontent.com (raw.githubusercontent.com)... 185.199.108.133, 185.199.111.133, 185.199.110.133, ...\n",
            "Connecting to raw.githubusercontent.com (raw.githubusercontent.com)|185.199.108.133|:443... connected.\n",
            "HTTP request sent, awaiting response... 200 OK\n",
            "Length: 9452 (9.2K) [text/plain]\n",
            "Saving to: ‘qiime2-2021.11-py38-linux-conda.yml’\n",
            "\n",
            "qiime2-2021.11-py38 100%[===================>]   9.23K  --.-KB/s    in 0s      \n",
            "\n",
            "2022-03-08 11:56:28 (103 MB/s) - ‘qiime2-2021.11-py38-linux-conda.yml’ saved [9452/9452]\n",
            "\n"
          ]
        }
      ]
    },
    {
      "cell_type": "markdown",
      "metadata": {
        "id": "fmQeQT0zADE6"
      },
      "source": [
        "#Create a conda enviroment for Qiime2"
      ]
    },
    {
      "cell_type": "code",
      "metadata": {
        "id": "o22YcB-S2AGx"
      },
      "source": [
        "!mamba env update -n base -f qiime2-2021.11-py38-linux-conda.yml"
      ],
      "execution_count": null,
      "outputs": []
    },
    {
      "cell_type": "markdown",
      "metadata": {
        "id": "S4vSNqDS0U90"
      },
      "source": [
        "Test QIIME2 and show list of QIIME2 commands"
      ]
    },
    {
      "cell_type": "code",
      "metadata": {
        "id": "2mUzOHgqTErQ"
      },
      "source": [
        "!qiime --help"
      ],
      "execution_count": null,
      "outputs": []
    },
    {
      "cell_type": "markdown",
      "metadata": {
        "id": "WxfKYNnVTBDd"
      },
      "source": [
        "Now we have set up QIIME2 to run in Google Colab, we can import our data. Change the location of the drive to /content/sample_data"
      ]
    },
    {
      "cell_type": "code",
      "metadata": {
        "colab": {
          "base_uri": "https://localhost:8080/"
        },
        "id": "rkxggvv5NuA-",
        "outputId": "ea3466dc-aa60-453e-cc86-a167992723a4"
      },
      "source": [
        "cd /content/sample_data/"
      ],
      "execution_count": null,
      "outputs": [
        {
          "output_type": "stream",
          "text": [
            "/content/sample_data\n"
          ],
          "name": "stdout"
        }
      ]
    },
    {
      "cell_type": "markdown",
      "metadata": {
        "id": "6ftY2QltSWUZ"
      },
      "source": [
        "# 3. Sample metadata. \n",
        "\n",
        "In this example we're using published dataset. Mice were fed a normal diet (chow) or a high fat diet. In addition some of the mice were put through a sleep deprivation protocol. Since this is real data, the authors have used their own terminology for diet, sleep deprivation. The first task in any reanalysis is to understand what the groups are or mean!! There are also a few (4) BLANK samples.\n",
        "\n",
        "Here's the paper https://journals.plos.org/plosone/article?id=10.1371/journal.pone.0229001\n",
        "\n",
        "We can use QIIME2 to display the contents of the metadata."
      ]
    },
    {
      "cell_type": "code",
      "metadata": {
        "colab": {
          "base_uri": "https://localhost:8080/"
        },
        "id": "QvIJY5NhSIk9",
        "outputId": "a150bc5d-1015-4f8e-e81f-3a8986c9336d"
      },
      "source": [
        "!qiime metadata tabulate \\\n",
        "  --m-input-file CSmetadata.txt \\\n",
        "  --o-visualization metadata.qzv"
      ],
      "execution_count": null,
      "outputs": [
        {
          "output_type": "stream",
          "text": [
            "\u001b[32mSaved Visualization to: metadata.qzv\u001b[0m\n"
          ],
          "name": "stdout"
        }
      ]
    },
    {
      "cell_type": "markdown",
      "metadata": {
        "id": "te-Vt_nkWZO9"
      },
      "source": [
        "The metadata.qzv file can be viewed on https://view.qiime2.org/"
      ]
    },
    {
      "cell_type": "markdown",
      "metadata": {
        "id": "BR0R82J1VvYp"
      },
      "source": [
        "Questions\n",
        "1. How many mice were used in the experiment?\n",
        "\n",
        "2. How many time points were used?\n",
        "\n",
        "3. How many different diet types were used in the study?"
      ]
    },
    {
      "cell_type": "markdown",
      "metadata": {
        "id": "1Pv794HwWab_"
      },
      "source": [
        "Answers\n",
        "\n",
        "1.\n",
        "\n",
        "2.\n",
        "\n",
        "\n",
        "3."
      ]
    },
    {
      "cell_type": "markdown",
      "metadata": {
        "id": "furr3HV1O4Po"
      },
      "source": [
        "# 3. import the data into QIIME2"
      ]
    },
    {
      "cell_type": "markdown",
      "metadata": {
        "id": "IrVGUq8gSZvj"
      },
      "source": [
        "First we create a manifest file, it contains the names of the files and also the directory they are stored in. We use a small bash scritp to print the names and location. We could also do this by hand in excel (or something similar). %% bash tells Colab that is a bash script and not Python. Bash is a Unix shell languague"
      ]
    },
    {
      "cell_type": "code",
      "metadata": {
        "id": "0XXCOHrADqUM"
      },
      "source": [
        "!echo -e \"sample-id\\tabsolute-filepath\" > manifest.tsv"
      ],
      "execution_count": null,
      "outputs": []
    },
    {
      "cell_type": "code",
      "metadata": {
        "id": "eU_ToOUnqF4u"
      },
      "source": [
        "%%bash\n",
        "\n",
        "for f in `ls *.gz`; do n=`basename $f`; echo -e \"${n%.fastq.gz}\\t$PWD/$f\"; done >> manifest.tsv"
      ],
      "execution_count": null,
      "outputs": []
    },
    {
      "cell_type": "markdown",
      "metadata": {
        "id": "kf8wR_HEXaiX"
      },
      "source": [
        "To print out the contents of the manifest, we can used the command 'cat\". You can see the sample-id and the location of the file in the Colab drive."
      ]
    },
    {
      "cell_type": "code",
      "metadata": {
        "id": "9ZpWEJUYSvFQ"
      },
      "source": [
        "!cat manifest.tsv"
      ],
      "execution_count": null,
      "outputs": []
    },
    {
      "cell_type": "markdown",
      "metadata": {
        "id": "Pefvt4z_XoaJ"
      },
      "source": [
        "Finally, we are ready to import the data in QIIME2, all QIIME2 commands have an input and output. The order of the comands e.g \n",
        "\n",
        "  --input-format SingleEndFastqManifestPhred33V2 \\\n",
        "  --input-path manifest.tsv \\\n",
        "  --type 'SampleData[SequencesWithQuality]' \\\n",
        "  --output-path se-demux.qza\n",
        "\n",
        "  compared to \n",
        "\n",
        "  --input-path manifest.tsv \\\n",
        "  --type 'SampleData[SequencesWithQuality]' \\\n",
        "  --input-format SingleEndFastqManifestPhred33V2 \\\n",
        "  --output-path se-demux.qza\n",
        "\n",
        "  does not effect the outcome. Using \\ is simply a new line. In the example below we are using  the command **qiime tools import** with input path **manifest.tsv** and input format **SingleEndFastqManifestPhred33V2**, type **'SampleData[SequencesWithQuality]'**\n",
        "\n",
        "  The output file is **se-demux.qza** (it could be called anthing you like!!)\n",
        "\n"
      ]
    },
    {
      "cell_type": "code",
      "metadata": {
        "colab": {
          "base_uri": "https://localhost:8080/"
        },
        "id": "ZAWsHsCCL6uW",
        "outputId": "a5edfbf8-e20b-4554-ab0e-b71af3a71911"
      },
      "source": [
        "!qiime tools import \\\n",
        "  --input-path manifest.tsv \\\n",
        "  --type 'SampleData[SequencesWithQuality]' \\\n",
        "  --input-format SingleEndFastqManifestPhred33V2 \\\n",
        "  --output-path se-demux.qza"
      ],
      "execution_count": null,
      "outputs": [
        {
          "output_type": "stream",
          "text": [
            "\u001b[32mImported manifest.tsv as SingleEndFastqManifestPhred33V2 to se-demux.qza\u001b[0m\n"
          ],
          "name": "stdout"
        }
      ]
    },
    {
      "cell_type": "code",
      "metadata": {
        "id": "Qte7BTHPyU7x",
        "colab": {
          "base_uri": "https://localhost:8080/"
        },
        "outputId": "11a343cd-8be0-4577-cd0f-eecc9431aa64"
      },
      "source": [
        "!qiime demux summarize \\\n",
        "    --i-data  se-demux.qza \\\n",
        "    --o-visualization se-demux.qzv"
      ],
      "execution_count": null,
      "outputs": [
        {
          "output_type": "stream",
          "text": [
            "\u001b[32mSaved Visualization to: se-demux.qzv\u001b[0m\n"
          ],
          "name": "stdout"
        }
      ]
    },
    {
      "cell_type": "markdown",
      "metadata": {
        "id": "tjsnM6lLcrPL"
      },
      "source": [
        "To check the sequence data and the sequencing depth of the samples we use the qiime demux summarize command. It provides information about the number of sequences in each sample, and the quality of the sequences."
      ]
    },
    {
      "cell_type": "markdown",
      "metadata": {
        "id": "kwdGsPYuyUix"
      },
      "source": [
        "Download se-demux.qzv and upload to https://view.qiime2.org/"
      ]
    },
    {
      "cell_type": "markdown",
      "metadata": {
        "id": "zzCVCUZqMnM_"
      },
      "source": [
        "## **Questions on importing data**\n",
        "\n",
        "\n",
        "1. Why has 'SingleEndFastqManifestPhred33V2' been used to import the data?\n",
        "\n",
        "2. After importing, which sample has the highest sequencing depth?\n",
        "\n",
        "3. What is the median sequence length?\n",
        "\n",
        "4. What is the median quality score at position 130?"
      ]
    },
    {
      "cell_type": "markdown",
      "metadata": {
        "id": "Wx97JQhAzjF6"
      },
      "source": [
        "##Answers\n",
        "1.\n",
        "\n",
        "2.\n",
        "\n",
        "3.\n",
        "\n",
        "4\n"
      ]
    },
    {
      "cell_type": "markdown",
      "metadata": {
        "id": "j9PIlcYJMxqG"
      },
      "source": [
        "#2. Denoising and constructing a feature table \n",
        "There are two ways to construct a feature table in QIIME 2: Operational Taxonomic Units (OTUs) or Amplicon Sequence Variants (ASVs). ASVs a provide better resolution than traditional OTU-based methods.\n",
        "\n",
        "In this example we are using the Deblur, this method requires one parameter that is used in quality filtering, **--p-trim-length** n which truncates the sequences at position n. It is recommend usetting this value to a length where the median quality score begins to drop. A quality score above 20 is considered reasonable.  \n",
        "\n",
        "Deblur is applied in two steps. First, an initial quality filtering process based on quality scores is applied then denoise 16S which requires the --p-trim-length."
      ]
    },
    {
      "cell_type": "markdown",
      "metadata": {
        "id": "0cs-dXi3ylyK"
      },
      "source": [
        "Using before deblur 16S we apply filter statistics (qiime quality-filter q-score). I have run this part for you."
      ]
    },
    {
      "cell_type": "markdown",
      "metadata": {
        "id": "WERBgPCwHBLP"
      },
      "source": [
        "!source activate qiime2-2020.11 && qiime quality-filter q-score \\\n",
        "    --i-demux se-demux.qza \\\n",
        "    --o-filtered-sequences demux-filtered.qza \\\n",
        "    --o-filter-stats demux-filter-stats.qza\n",
        "\n",
        "\n",
        "To avoid any lengthy analysis times, in this example we'll skip the denoise step, I have provided you with the output files instead"
      ]
    },
    {
      "cell_type": "markdown",
      "metadata": {
        "id": "-f1MGRpHy0Mo"
      },
      "source": [
        "#Question: Which -p--trim length would you pick for the analysis? Look at se-demux.qzv on https://view.qiime2.org/ and select a trim length.\n",
        "\n",
        "**Answer**\n",
        "\n",
        "1. "
      ]
    },
    {
      "cell_type": "markdown",
      "metadata": {
        "id": "uxrRAlRfyyaz"
      },
      "source": [
        "\n",
        "We're skipping these parts, I've provided table-deblur\n",
        "\n",
        "!source activate qiime2-2020.11 && qiime deblur denoise-16S \\\n",
        "    --i-demultiplexed-seqs demux-filtered.qza \\\n",
        "    --p-trim-length ? \\\n",
        "    --p-sample-stats \\\n",
        "    --o-stats deblur-stats.qza \\\n",
        "    --o-representative-sequences rep-seqs-deblur.qza \\\n",
        "    --o-table table-deblur.qza"
      ]
    },
    {
      "cell_type": "markdown",
      "metadata": {
        "id": "QbKgGkwumc6N"
      },
      "source": [
        "##Run the next three cells to complete the Deblur steps"
      ]
    },
    {
      "cell_type": "code",
      "metadata": {
        "id": "07AcmZvEElRj",
        "colab": {
          "base_uri": "https://localhost:8080/"
        },
        "outputId": "00a4b993-e15a-4d91-9aed-bc121c82c5d6"
      },
      "source": [
        "!qiime deblur visualize-stats \\\n",
        "    --i-deblur-stats deblur-stats.qza \\\n",
        "    --o-visualization deblur-stats.qzv"
      ],
      "execution_count": null,
      "outputs": [
        {
          "output_type": "stream",
          "text": [
            "\u001b[32mSaved Visualization to: deblur-stats.qzv\u001b[0m\n"
          ],
          "name": "stdout"
        }
      ]
    },
    {
      "cell_type": "code",
      "metadata": {
        "id": "Fq0Fwdq7EJsM",
        "colab": {
          "base_uri": "https://localhost:8080/"
        },
        "outputId": "f5bd2f32-85b3-41e1-a372-445e4ebe7bd7"
      },
      "source": [
        "!qiime feature-table tabulate-seqs \\\n",
        "    --i-data rep-seqs-deblur.qza \\\n",
        "    --o-visualization rep-seqs-deblur.qzv"
      ],
      "execution_count": null,
      "outputs": [
        {
          "output_type": "stream",
          "text": [
            "\u001b[32mSaved Visualization to: rep-seqs-deblur.qzv\u001b[0m\n"
          ],
          "name": "stdout"
        }
      ]
    },
    {
      "cell_type": "code",
      "metadata": {
        "id": "u9Z70w81ERG8",
        "colab": {
          "base_uri": "https://localhost:8080/"
        },
        "outputId": "7dc5add7-e857-4a8b-de8d-e718458b997c"
      },
      "source": [
        "!qiime feature-table summarize \\\n",
        "    --i-table table-deblur.qza \\\n",
        "    --m-sample-metadata-file CSmetadata.txt \\\n",
        "    --o-visualization table-deblur.qzv"
      ],
      "execution_count": null,
      "outputs": [
        {
          "output_type": "stream",
          "text": [
            "\u001b[32mSaved Visualization to: table-deblur.qzv\u001b[0m\n"
          ],
          "name": "stdout"
        }
      ]
    },
    {
      "cell_type": "markdown",
      "metadata": {
        "id": "Az9iyX6Kmw0P"
      },
      "source": [
        "#Take alook at table-deblur.qzv, rep-seqs-deblur.qzv and deblur-stats.qvz"
      ]
    },
    {
      "cell_type": "markdown",
      "metadata": {
        "id": "YjXCjm9RK7uC"
      },
      "source": [
        "# **Questions on denoising** \n",
        "\n",
        "1.  How many total features remain after denoising? You will need to look at table-deblur.qzv\n",
        "\n",
        "2. Which sample has the highest total count of features? \n",
        "\n",
        "3. How many samples have fewer than 2000 total features?\n",
        "\n",
        "4. Which feature is observed at the highest frequency?\n",
        "\n",
        "5. Which sample has the fewest features? How many does it have?"
      ]
    },
    {
      "cell_type": "markdown",
      "metadata": {
        "id": "snajChlWy88o"
      },
      "source": [
        "## Answers\n",
        "1.\n",
        "\n",
        "2.\n",
        "\n",
        "3.\n",
        "\n",
        "4.\n",
        "\n",
        "5\n"
      ]
    },
    {
      "cell_type": "markdown",
      "metadata": {
        "id": "n32IWFecrpOG"
      },
      "source": [
        "#Generating a Phylogenic tree for diversity analysis"
      ]
    },
    {
      "cell_type": "markdown",
      "metadata": {
        "id": "kec3cZKSfTR3"
      },
      "source": [
        "QIIME 2 analysis allows the use of phylogenetic trees for diversity metrics. The tree gives a structure to the data, so we can consider an evolutionary relationship between organisms.\n",
        "\n",
        "QIIME 2 has multiple ways to construct a phylogenetic tree. For this tutorial, we’re going to use a quick method **phylogeny align-to-tree-mafft-fasttree**"
      ]
    },
    {
      "cell_type": "code",
      "metadata": {
        "id": "EdooEe8UEvPj",
        "colab": {
          "base_uri": "https://localhost:8080/"
        },
        "outputId": "361f8dbf-7dad-42b7-92e9-68a5912cc85b"
      },
      "source": [
        "!qiime phylogeny align-to-tree-mafft-fasttree \\\n",
        "  --i-sequences rep-seqs-deblur.qza  \\\n",
        "  --o-alignment aligned-rep-seqs.qza \\\n",
        "  --o-masked-alignment masked-aligned-rep-seqs.qza \\\n",
        "  --o-tree unrooted-tree.qza \\\n",
        "  --o-rooted-tree rooted-tree.qza"
      ],
      "execution_count": null,
      "outputs": [
        {
          "output_type": "stream",
          "text": [
            "\u001b[32mSaved FeatureData[AlignedSequence] to: aligned-rep-seqs.qza\u001b[0m\n",
            "\u001b[32mSaved FeatureData[AlignedSequence] to: masked-aligned-rep-seqs.qza\u001b[0m\n",
            "\u001b[32mSaved Phylogeny[Unrooted] to: unrooted-tree.qza\u001b[0m\n",
            "\u001b[32mSaved Phylogeny[Rooted] to: rooted-tree.qza\u001b[0m\n"
          ],
          "name": "stdout"
        }
      ]
    },
    {
      "cell_type": "markdown",
      "metadata": {
        "id": "9DnQh1wPVwl9"
      },
      "source": [
        "#4. Alpha Rarefaction and rarefaction depth"
      ]
    },
    {
      "cell_type": "markdown",
      "metadata": {
        "id": "Yw9jR1R2xf7b"
      },
      "source": [
        "Before we can analyse microbial diversity. The data must normalized to account for differences in sequencing depth between samples. Rarefaction is a method for normalization. \n",
        "\n",
        "It is a two step process: samples which are below the rarefaction depth are removed from the feature table, the  remaining samples are subsampled without replacement to get to the specified sequencing depth. It can be tricky to select a rarefaction depth for diversity analyses.\n",
        "\n",
        "Run the code below and visualise alpha-rarefaction.qzv"
      ]
    },
    {
      "cell_type": "code",
      "metadata": {
        "id": "QFvb5_9iEwi0",
        "colab": {
          "base_uri": "https://localhost:8080/"
        },
        "outputId": "6cb74f1e-2f30-43c7-c681-6e473b4b9828"
      },
      "source": [
        "!qiime diversity alpha-rarefaction \\\n",
        "  --i-table table-deblur.qza \\\n",
        "  --i-phylogeny rooted-tree.qza \\\n",
        "  --p-max-depth 2000 \\\n",
        "  --m-metadata-file CSmetadata.txt \\\n",
        "  --o-visualization alpha-rarefaction.qzv"
      ],
      "execution_count": null,
      "outputs": [
        {
          "output_type": "stream",
          "text": [
            "\u001b[32mSaved Visualization to: alpha-rarefaction.qzv\u001b[0m\n"
          ],
          "name": "stdout"
        }
      ]
    },
    {
      "cell_type": "markdown",
      "metadata": {
        "id": "S8p_J_5uKxoO"
      },
      "source": [
        "#Questions"
      ]
    },
    {
      "cell_type": "markdown",
      "metadata": {
        "id": "KJfsrKuFmJ7m"
      },
      "source": [
        "Start by opening the alpha rarefaction visualization.\n",
        "\n",
        "\n",
        "\n",
        "1. Which metric shows saturation and stabilization of the diversity?\n",
        "\n",
        "2. Which diet group has higher diversity, based on the curve? \n",
        "\n",
        "Using the feature table summary (table-deblur.qzv).\n",
        "\n",
        "3. How many samples are lost if we set the rarefaction depth to 2500 sequences per sample? [you will need to re-run the code above with p-max-depth set to 2500].\n",
        "\n",
        "4. Which diet group did these samples come from?"
      ]
    },
    {
      "cell_type": "markdown",
      "metadata": {
        "id": "1fv_lIS5xLau"
      },
      "source": [
        "## Answers\n",
        "1.\n",
        "\n",
        "2.\n",
        "\n",
        "3.\n",
        "\n",
        "4.\n",
        "\n",
        "\n"
      ]
    }
  ]
}