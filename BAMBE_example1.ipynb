{
  "nbformat": 4,
  "nbformat_minor": 0,
  "metadata": {
    "colab": {
      "name": "BAMBE_example1.ipynb",
      "provenance": [],
      "authorship_tag": "ABX9TyOA6sHQvl3fkP/eQEABbBrI",
      "include_colab_link": true
    },
    "kernelspec": {
      "name": "python3",
      "display_name": "Python 3"
    },
    "language_info": {
      "name": "python"
    }
  },
  "cells": [
    {
      "cell_type": "markdown",
      "metadata": {
        "id": "view-in-github",
        "colab_type": "text"
      },
      "source": [
        "<a href=\"https://colab.research.google.com/github/toryn13/Teaching-metagenomics-in-Colab/blob/main/BAMBE_example1.ipynb\" target=\"_parent\"><img src=\"https://colab.research.google.com/assets/colab-badge.svg\" alt=\"Open In Colab\"/></a>"
      ]
    },
    {
      "cell_type": "markdown",
      "metadata": {
        "id": "Mg7d2So7Z0Bf"
      },
      "source": [
        "# **Using Colab to retrive public data**"
      ]
    },
    {
      "cell_type": "markdown",
      "source": [
        "This notebook contains examples of how to retrieve sequencing data from the major databases. While any fastq files can be fetched, the use of these examples works well for amplicon sequencing (16sRNA), which generally has reasonable file sizes and can be used with QIIME2  in Colab\n",
        "\n",
        "You will need to factory reset Colab after running each method, otherwise you will be in the wrong directory and you may have fastq files from different tookits (or download methods)."
      ],
      "metadata": {
        "id": "qBS6W0O1o8-h"
      }
    },
    {
      "cell_type": "markdown",
      "metadata": {
        "id": "yTYrN4AWarHD"
      },
      "source": [
        "#1.ENA browswer set up"
      ]
    },
    {
      "cell_type": "code",
      "metadata": {
        "colab": {
          "base_uri": "https://localhost:8080/"
        },
        "id": "oGeJEzPaV-Wt",
        "outputId": "669f4a9e-03e4-4b68-e714-ac80c13cc9c4"
      },
      "source": [
        "!wget \"https://github.com/enasequence/enaBrowserTools/archive/v1.6.tar.gz\""
      ],
      "execution_count": 2,
      "outputs": [
        {
          "output_type": "stream",
          "name": "stdout",
          "text": [
            "--2022-03-02 13:27:39--  https://github.com/enasequence/enaBrowserTools/archive/v1.6.tar.gz\n",
            "Resolving github.com (github.com)... 140.82.112.3\n",
            "Connecting to github.com (github.com)|140.82.112.3|:443... connected.\n",
            "HTTP request sent, awaiting response... 302 Found\n",
            "Location: https://codeload.github.com/enasequence/enaBrowserTools/tar.gz/refs/tags/v1.6 [following]\n",
            "--2022-03-02 13:27:40--  https://codeload.github.com/enasequence/enaBrowserTools/tar.gz/refs/tags/v1.6\n",
            "Resolving codeload.github.com (codeload.github.com)... 140.82.113.10\n",
            "Connecting to codeload.github.com (codeload.github.com)|140.82.113.10|:443... connected.\n",
            "HTTP request sent, awaiting response... 200 OK\n",
            "Length: unspecified [application/x-gzip]\n",
            "Saving to: ‘v1.6.tar.gz’\n",
            "\n",
            "v1.6.tar.gz             [ <=>                ]  19.12K  --.-KB/s    in 0.06s   \n",
            "\n",
            "2022-03-02 13:27:40 (320 KB/s) - ‘v1.6.tar.gz’ saved [19577]\n",
            "\n"
          ]
        }
      ]
    },
    {
      "cell_type": "code",
      "metadata": {
        "id": "YD-EHbJ8WHNL"
      },
      "source": [
        "!tar -xvf /content/v1.6.tar.gz"
      ],
      "execution_count": null,
      "outputs": []
    },
    {
      "cell_type": "code",
      "metadata": {
        "colab": {
          "base_uri": "https://localhost:8080/"
        },
        "id": "HwyOw1coWKJn",
        "outputId": "178cb314-57d4-43cc-a4f3-f8d63b25d4d4"
      },
      "source": [
        "cd /content/enaBrowserTools-1.6/python3"
      ],
      "execution_count": 4,
      "outputs": [
        {
          "output_type": "stream",
          "name": "stdout",
          "text": [
            "/content/enaBrowserTools-1.6/python3\n"
          ]
        }
      ]
    },
    {
      "cell_type": "markdown",
      "source": [
        "##Find a study to download, example here is from\n",
        "https://www.ncbi.nlm.nih.gov/pmc/articles/PMC7898465/"
      ],
      "metadata": {
        "id": "UVtsuISMFMJI"
      }
    },
    {
      "cell_type": "code",
      "metadata": {
        "id": "vriIdxuMNHRH"
      },
      "source": [
        "%%bash\n",
        "./enaGroupGet PRJEB37999\n"
      ],
      "execution_count": null,
      "outputs": []
    },
    {
      "cell_type": "markdown",
      "metadata": {
        "id": "b3niuwx6fG-A"
      },
      "source": [
        "If only part of the study is required, the **run accession** IDs are required, add them to the enafiles.txt"
      ]
    },
    {
      "cell_type": "code",
      "execution_count": null,
      "metadata": {
        "id": "lmoOI4S3fDo6"
      },
      "outputs": [],
      "source": [
        "!echo -e > enafiles.txt"
      ]
    },
    {
      "cell_type": "markdown",
      "source": [
        "open the enafiles.txt add SRR10013537 and save the file"
      ],
      "metadata": {
        "id": "bBt_9e2sOS1b"
      }
    },
    {
      "cell_type": "code",
      "execution_count": null,
      "metadata": {
        "colab": {
          "base_uri": "https://localhost:8080/"
        },
        "id": "ptQYALr4e8uv",
        "outputId": "182fdca5-1512-4262-c0f8-65a117be729c"
      },
      "outputs": [
        {
          "name": "stdout",
          "output_type": "stream",
          "text": [
            "Checking availability of https://www.ebi.ac.uk/ena/browser/api/xml/SRR10013537\n",
            "Downloading file with md5 check:ftp.sra.ebi.ac.uk/vol1/fastq/SRR100/037/SRR10013537/SRR10013537_subreads.fastq.gz\n",
            "Completed\n"
          ]
        }
      ],
      "source": [
        "%%bash\n",
        "for i in `cat enafiles.txt`; do ./enaDataGet -f fastq $i; done"
      ]
    },
    {
      "cell_type": "markdown",
      "source": [
        "##Move files (.gz) from each folder"
      ],
      "metadata": {
        "id": "_w6cMwmmFp6v"
      }
    },
    {
      "cell_type": "code",
      "metadata": {
        "id": "MCvGSaJq1_0m"
      },
      "source": [
        "import os\n",
        "import shutil\n",
        "location=\"/content/enaBrowserTools-1.6/python3/\"\n",
        "dst= \"/content/sample_data\"\n",
        "for root, dir, files in os.walk(top=location):\n",
        "    for file in files:\n",
        "        if file.endswith(\".gz\"):  #match files that match this extension\n",
        "            shutil.move(os.path.join(root, file), dst)"
      ],
      "execution_count": 5,
      "outputs": []
    },
    {
      "cell_type": "markdown",
      "metadata": {
        "id": "x-1jbfTmb8OO"
      },
      "source": [
        "# 2.Sequence read archive (SRA) and fastq dump"
      ]
    },
    {
      "cell_type": "markdown",
      "source": [
        "##Set up conda in colab"
      ],
      "metadata": {
        "id": "_b_QDDjnZ_GR"
      }
    },
    {
      "cell_type": "code",
      "source": [
        "!pip install -q condacolab\n",
        "import condacolab\n",
        "condacolab.install()"
      ],
      "metadata": {
        "id": "MDk7MrRHSkft"
      },
      "execution_count": null,
      "outputs": []
    },
    {
      "cell_type": "code",
      "source": [
        "import condacolab\n",
        "condacolab.check()"
      ],
      "metadata": {
        "colab": {
          "base_uri": "https://localhost:8080/"
        },
        "id": "uA4SkAMlSrT4",
        "outputId": "13425ea9-f055-4020-c639-c6e406b71142"
      },
      "execution_count": 1,
      "outputs": [
        {
          "output_type": "stream",
          "name": "stdout",
          "text": [
            "✨🍰✨ Everything looks OK!\n"
          ]
        }
      ]
    },
    {
      "cell_type": "markdown",
      "source": [
        "##Install parallel fastq-dump"
      ],
      "metadata": {
        "id": "cbj51_VxaB3V"
      }
    },
    {
      "cell_type": "code",
      "metadata": {
        "id": "Kk56cM3SUUwe"
      },
      "source": [
        "# can change to another channel or package\n",
        "!conda config --add channels defaults\n",
        "!conda config --add channels defaults\n",
        "!conda config --add channels bioconda\n",
        "!conda config --add channels conda-forge\n",
        "!conda install parallel-fastq-dump"
      ],
      "execution_count": null,
      "outputs": []
    },
    {
      "cell_type": "markdown",
      "source": [
        "##Download the SRA toolkit"
      ],
      "metadata": {
        "id": "1d36Pg-BaHeQ"
      }
    },
    {
      "cell_type": "code",
      "metadata": {
        "id": "dfnYMndJyVia",
        "colab": {
          "base_uri": "https://localhost:8080/"
        },
        "outputId": "64a3bc14-dad0-48f1-a547-2b7e106d723e"
      },
      "source": [
        "!wget \"https://ftp-trace.ncbi.nlm.nih.gov/sra/sdk/2.10.8/sratoolkit.2.10.8-ubuntu64.tar.gz\""
      ],
      "execution_count": 3,
      "outputs": [
        {
          "output_type": "stream",
          "name": "stdout",
          "text": [
            "--2022-03-02 11:07:16--  https://ftp-trace.ncbi.nlm.nih.gov/sra/sdk/2.10.8/sratoolkit.2.10.8-ubuntu64.tar.gz\n",
            "Resolving ftp-trace.ncbi.nlm.nih.gov (ftp-trace.ncbi.nlm.nih.gov)... 130.14.250.13, 130.14.250.11, 2607:f220:41f:250::229, ...\n",
            "Connecting to ftp-trace.ncbi.nlm.nih.gov (ftp-trace.ncbi.nlm.nih.gov)|130.14.250.13|:443... connected.\n",
            "HTTP request sent, awaiting response... 200 OK\n",
            "Length: 97794970 (93M) [application/x-gzip]\n",
            "Saving to: ‘sratoolkit.2.10.8-ubuntu64.tar.gz’\n",
            "\n",
            "sratoolkit.2.10.8-u 100%[===================>]  93.26M   105MB/s    in 0.9s    \n",
            "\n",
            "2022-03-02 11:07:17 (105 MB/s) - ‘sratoolkit.2.10.8-ubuntu64.tar.gz’ saved [97794970/97794970]\n",
            "\n"
          ]
        }
      ]
    },
    {
      "cell_type": "code",
      "metadata": {
        "id": "6C3GU6WMyYpV",
        "colab": {
          "base_uri": "https://localhost:8080/"
        },
        "outputId": "7ed98fba-1e94-4112-843e-24d3d8964356"
      },
      "source": [
        "!tar -xvf  /content/sratoolkit.2.10.8-ubuntu64.tar.gz"
      ],
      "execution_count": 4,
      "outputs": [
        {
          "output_type": "stream",
          "name": "stdout",
          "text": [
            "sratoolkit.2.10.8-ubuntu64/\n",
            "sratoolkit.2.10.8-ubuntu64/example/\n",
            "sratoolkit.2.10.8-ubuntu64/example/perl/\n",
            "sratoolkit.2.10.8-ubuntu64/example/perl/base-stats.pl\n",
            "sratoolkit.2.10.8-ubuntu64/example/perl/dump-reference.pl\n",
            "sratoolkit.2.10.8-ubuntu64/example/perl/gene-lookup.pl\n",
            "sratoolkit.2.10.8-ubuntu64/example/perl/mismatch-stats.pl\n",
            "sratoolkit.2.10.8-ubuntu64/example/perl/quality-stats.pl\n",
            "sratoolkit.2.10.8-ubuntu64/example/perl/simplefastq.pl\n",
            "sratoolkit.2.10.8-ubuntu64/example/perl/splitfastq.pl\n",
            "sratoolkit.2.10.8-ubuntu64/README-blastn\n",
            "sratoolkit.2.10.8-ubuntu64/README-vdb-config\n",
            "sratoolkit.2.10.8-ubuntu64/README.md\n",
            "sratoolkit.2.10.8-ubuntu64/schema/\n",
            "sratoolkit.2.10.8-ubuntu64/schema/align/\n",
            "sratoolkit.2.10.8-ubuntu64/schema/align/align.vschema\n",
            "sratoolkit.2.10.8-ubuntu64/schema/align/mate-cache.vschema\n",
            "sratoolkit.2.10.8-ubuntu64/schema/align/pileup-stats.vschema\n",
            "sratoolkit.2.10.8-ubuntu64/schema/align/qstat.vschema\n",
            "sratoolkit.2.10.8-ubuntu64/schema/align/refseq.vschema\n",
            "sratoolkit.2.10.8-ubuntu64/schema/align/seq.vschema\n",
            "sratoolkit.2.10.8-ubuntu64/schema/csra2/\n",
            "sratoolkit.2.10.8-ubuntu64/schema/csra2/csra2.vschema\n",
            "sratoolkit.2.10.8-ubuntu64/schema/csra2/read.vschema\n",
            "sratoolkit.2.10.8-ubuntu64/schema/csra2/reference.vschema\n",
            "sratoolkit.2.10.8-ubuntu64/schema/csra2/stats.vschema\n",
            "sratoolkit.2.10.8-ubuntu64/schema/insdc/\n",
            "sratoolkit.2.10.8-ubuntu64/schema/insdc/insdc.vschema\n",
            "sratoolkit.2.10.8-ubuntu64/schema/insdc/seq.vschema\n",
            "sratoolkit.2.10.8-ubuntu64/schema/insdc/sra.vschema\n",
            "sratoolkit.2.10.8-ubuntu64/schema/ncbi/\n",
            "sratoolkit.2.10.8-ubuntu64/schema/ncbi/clip.vschema\n",
            "sratoolkit.2.10.8-ubuntu64/schema/ncbi/ncbi.vschema\n",
            "sratoolkit.2.10.8-ubuntu64/schema/ncbi/pnbrdb.vschema\n",
            "sratoolkit.2.10.8-ubuntu64/schema/ncbi/seq-graph.vschema\n",
            "sratoolkit.2.10.8-ubuntu64/schema/ncbi/seq.vschema\n",
            "sratoolkit.2.10.8-ubuntu64/schema/ncbi/spotname.vschema\n",
            "sratoolkit.2.10.8-ubuntu64/schema/ncbi/sra.vschema\n",
            "sratoolkit.2.10.8-ubuntu64/schema/ncbi/stats.vschema\n",
            "sratoolkit.2.10.8-ubuntu64/schema/ncbi/trace.vschema\n",
            "sratoolkit.2.10.8-ubuntu64/schema/ncbi/varloc.vschema\n",
            "sratoolkit.2.10.8-ubuntu64/schema/ncbi/wgs-contig.vschema\n",
            "sratoolkit.2.10.8-ubuntu64/schema/sra/\n",
            "sratoolkit.2.10.8-ubuntu64/schema/sra/454.vschema\n",
            "sratoolkit.2.10.8-ubuntu64/schema/sra/abi.vschema\n",
            "sratoolkit.2.10.8-ubuntu64/schema/sra/generic-fastq.vschema\n",
            "sratoolkit.2.10.8-ubuntu64/schema/sra/helicos.vschema\n",
            "sratoolkit.2.10.8-ubuntu64/schema/sra/illumina.vschema\n",
            "sratoolkit.2.10.8-ubuntu64/schema/sra/ion-torrent.vschema\n",
            "sratoolkit.2.10.8-ubuntu64/schema/sra/nanopore.vschema\n",
            "sratoolkit.2.10.8-ubuntu64/schema/sra/pacbio.vschema\n",
            "sratoolkit.2.10.8-ubuntu64/schema/sra/pevents.vschema\n",
            "sratoolkit.2.10.8-ubuntu64/schema/vdb/\n",
            "sratoolkit.2.10.8-ubuntu64/schema/vdb/built-in.vschema\n",
            "sratoolkit.2.10.8-ubuntu64/schema/vdb/vdb.vschema\n",
            "sratoolkit.2.10.8-ubuntu64/bin/\n",
            "sratoolkit.2.10.8-ubuntu64/bin/ncbi/\n",
            "sratoolkit.2.10.8-ubuntu64/bin/ncbi/default.kfg\n",
            "sratoolkit.2.10.8-ubuntu64/bin/ncbi/certs.kfg\n",
            "sratoolkit.2.10.8-ubuntu64/bin/ncbi/vdb-copy.kfg\n",
            "sratoolkit.2.10.8-ubuntu64/bin/abi-dump\n",
            "sratoolkit.2.10.8-ubuntu64/bin/abi-dump.2\n",
            "sratoolkit.2.10.8-ubuntu64/bin/abi-dump.2.10.8\n",
            "sratoolkit.2.10.8-ubuntu64/bin/abi-load\n",
            "sratoolkit.2.10.8-ubuntu64/bin/abi-load.2\n",
            "sratoolkit.2.10.8-ubuntu64/bin/abi-load.2.10.8\n",
            "sratoolkit.2.10.8-ubuntu64/bin/sra-tblastn\n",
            "sratoolkit.2.10.8-ubuntu64/bin/sra-blastn\n",
            "sratoolkit.2.10.8-ubuntu64/bin/align-info\n",
            "sratoolkit.2.10.8-ubuntu64/bin/align-info.2\n",
            "sratoolkit.2.10.8-ubuntu64/bin/align-info.2.10.8\n",
            "sratoolkit.2.10.8-ubuntu64/bin/bam-load\n",
            "sratoolkit.2.10.8-ubuntu64/bin/bam-load.2\n",
            "sratoolkit.2.10.8-ubuntu64/bin/bam-load.2.10.8\n",
            "sratoolkit.2.10.8-ubuntu64/bin/blastn_vdb.2.10.1-2.10.8\n",
            "sratoolkit.2.10.8-ubuntu64/bin/cache-mgr\n",
            "sratoolkit.2.10.8-ubuntu64/bin/cache-mgr.2\n",
            "sratoolkit.2.10.8-ubuntu64/bin/cache-mgr.2.10.8\n",
            "sratoolkit.2.10.8-ubuntu64/bin/cg-load\n",
            "sratoolkit.2.10.8-ubuntu64/bin/cg-load.2\n",
            "sratoolkit.2.10.8-ubuntu64/bin/cg-load.2.10.8\n",
            "sratoolkit.2.10.8-ubuntu64/bin/dump-ref-fasta\n",
            "sratoolkit.2.10.8-ubuntu64/bin/dump-ref-fasta.2\n",
            "sratoolkit.2.10.8-ubuntu64/bin/dump-ref-fasta.2.10.8\n",
            "sratoolkit.2.10.8-ubuntu64/bin/fasterq-dump\n",
            "sratoolkit.2.10.8-ubuntu64/bin/fasterq-dump-orig.2.10.8\n",
            "sratoolkit.2.10.8-ubuntu64/bin/fasterq-dump.2\n",
            "sratoolkit.2.10.8-ubuntu64/bin/fasterq-dump.2.10.8\n",
            "sratoolkit.2.10.8-ubuntu64/bin/fastq-dump\n",
            "sratoolkit.2.10.8-ubuntu64/bin/fastq-dump-orig.2.10.8\n",
            "sratoolkit.2.10.8-ubuntu64/bin/fastq-dump.2\n",
            "sratoolkit.2.10.8-ubuntu64/bin/fastq-dump.2.10.8\n",
            "sratoolkit.2.10.8-ubuntu64/bin/fastq-load\n",
            "sratoolkit.2.10.8-ubuntu64/bin/fastq-load.2\n",
            "sratoolkit.2.10.8-ubuntu64/bin/fastq-load.2.10.8\n",
            "sratoolkit.2.10.8-ubuntu64/bin/helicos-load\n",
            "sratoolkit.2.10.8-ubuntu64/bin/helicos-load.2\n",
            "sratoolkit.2.10.8-ubuntu64/bin/helicos-load.2.10.8\n",
            "sratoolkit.2.10.8-ubuntu64/bin/illumina-dump\n",
            "sratoolkit.2.10.8-ubuntu64/bin/illumina-dump.2\n",
            "sratoolkit.2.10.8-ubuntu64/bin/illumina-dump.2.10.8\n",
            "sratoolkit.2.10.8-ubuntu64/bin/illumina-load\n",
            "sratoolkit.2.10.8-ubuntu64/bin/illumina-load.2\n",
            "sratoolkit.2.10.8-ubuntu64/bin/illumina-load.2.10.8\n",
            "sratoolkit.2.10.8-ubuntu64/bin/kar\n",
            "sratoolkit.2.10.8-ubuntu64/bin/kar.2\n",
            "sratoolkit.2.10.8-ubuntu64/bin/kar.2.10.8\n",
            "sratoolkit.2.10.8-ubuntu64/bin/kdbmeta\n",
            "sratoolkit.2.10.8-ubuntu64/bin/kdbmeta.2\n",
            "sratoolkit.2.10.8-ubuntu64/bin/kdbmeta.2.10.8\n",
            "sratoolkit.2.10.8-ubuntu64/bin/latf-load\n",
            "sratoolkit.2.10.8-ubuntu64/bin/latf-load.2\n",
            "sratoolkit.2.10.8-ubuntu64/bin/latf-load.2.10.8\n",
            "sratoolkit.2.10.8-ubuntu64/bin/pacbio-load\n",
            "sratoolkit.2.10.8-ubuntu64/bin/pacbio-load.2\n",
            "sratoolkit.2.10.8-ubuntu64/bin/pacbio-load.2.10.8\n",
            "sratoolkit.2.10.8-ubuntu64/bin/prefetch\n",
            "sratoolkit.2.10.8-ubuntu64/bin/prefetch-orig.2.10.8\n",
            "sratoolkit.2.10.8-ubuntu64/bin/prefetch.2\n",
            "sratoolkit.2.10.8-ubuntu64/bin/prefetch.2.10.8\n",
            "sratoolkit.2.10.8-ubuntu64/bin/rcexplain\n",
            "sratoolkit.2.10.8-ubuntu64/bin/rcexplain.2\n",
            "sratoolkit.2.10.8-ubuntu64/bin/rcexplain.2.10.8\n",
            "sratoolkit.2.10.8-ubuntu64/bin/remote-fuser\n",
            "sratoolkit.2.10.8-ubuntu64/bin/remote-fuser.2\n",
            "sratoolkit.2.10.8-ubuntu64/bin/remote-fuser.2.10.8\n",
            "sratoolkit.2.10.8-ubuntu64/bin/sam-dump\n",
            "sratoolkit.2.10.8-ubuntu64/bin/sam-dump-orig.2.10.8\n",
            "sratoolkit.2.10.8-ubuntu64/bin/sam-dump.2\n",
            "sratoolkit.2.10.8-ubuntu64/bin/sam-dump.2.10.8\n",
            "sratoolkit.2.10.8-ubuntu64/bin/sff-dump\n",
            "sratoolkit.2.10.8-ubuntu64/bin/sff-dump.2\n",
            "sratoolkit.2.10.8-ubuntu64/bin/sff-dump.2.10.8\n",
            "sratoolkit.2.10.8-ubuntu64/bin/sff-load\n",
            "sratoolkit.2.10.8-ubuntu64/bin/sff-load.2\n",
            "sratoolkit.2.10.8-ubuntu64/bin/sff-load.2.10.8\n",
            "sratoolkit.2.10.8-ubuntu64/bin/sra-pileup\n",
            "sratoolkit.2.10.8-ubuntu64/bin/sra-pileup-orig.2.10.8\n",
            "sratoolkit.2.10.8-ubuntu64/bin/sra-pileup.2\n",
            "sratoolkit.2.10.8-ubuntu64/bin/sra-pileup.2.10.8\n",
            "sratoolkit.2.10.8-ubuntu64/bin/sra-search\n",
            "sratoolkit.2.10.8-ubuntu64/bin/sra-search.2\n",
            "sratoolkit.2.10.8-ubuntu64/bin/sra-search.2.10.8\n",
            "sratoolkit.2.10.8-ubuntu64/bin/sra-sort\n",
            "sratoolkit.2.10.8-ubuntu64/bin/sra-sort-cg\n",
            "sratoolkit.2.10.8-ubuntu64/bin/sra-sort-cg.2\n",
            "sratoolkit.2.10.8-ubuntu64/bin/sra-sort-cg.2.10.8\n",
            "sratoolkit.2.10.8-ubuntu64/bin/sra-sort.2\n",
            "sratoolkit.2.10.8-ubuntu64/bin/sra-sort.2.10.8\n",
            "sratoolkit.2.10.8-ubuntu64/bin/sra-stat\n",
            "sratoolkit.2.10.8-ubuntu64/bin/sra-stat.2\n",
            "sratoolkit.2.10.8-ubuntu64/bin/sra-stat.2.10.8\n",
            "sratoolkit.2.10.8-ubuntu64/bin/srapath\n",
            "sratoolkit.2.10.8-ubuntu64/bin/srapath-orig.2.10.8\n",
            "sratoolkit.2.10.8-ubuntu64/bin/srapath.2\n",
            "sratoolkit.2.10.8-ubuntu64/bin/srapath.2.10.8\n",
            "sratoolkit.2.10.8-ubuntu64/bin/sratools.2.10.8\n",
            "sratoolkit.2.10.8-ubuntu64/bin/srf-load\n",
            "sratoolkit.2.10.8-ubuntu64/bin/srf-load.2\n",
            "sratoolkit.2.10.8-ubuntu64/bin/srf-load.2.10.8\n",
            "sratoolkit.2.10.8-ubuntu64/bin/tblastn_vdb.2.10.1-2.10.8\n",
            "sratoolkit.2.10.8-ubuntu64/bin/test-sra\n",
            "sratoolkit.2.10.8-ubuntu64/bin/test-sra.2\n",
            "sratoolkit.2.10.8-ubuntu64/bin/test-sra.2.10.8\n",
            "sratoolkit.2.10.8-ubuntu64/bin/vdb-config\n",
            "sratoolkit.2.10.8-ubuntu64/bin/vdb-config.2\n",
            "sratoolkit.2.10.8-ubuntu64/bin/vdb-config.2.10.8\n",
            "sratoolkit.2.10.8-ubuntu64/bin/vdb-copy\n",
            "sratoolkit.2.10.8-ubuntu64/bin/vdb-copy.2\n",
            "sratoolkit.2.10.8-ubuntu64/bin/vdb-copy.2.10.8\n",
            "sratoolkit.2.10.8-ubuntu64/bin/vdb-decrypt\n",
            "sratoolkit.2.10.8-ubuntu64/bin/vdb-decrypt.2\n",
            "sratoolkit.2.10.8-ubuntu64/bin/vdb-decrypt.2.10.8\n",
            "sratoolkit.2.10.8-ubuntu64/bin/vdb-dump\n",
            "sratoolkit.2.10.8-ubuntu64/bin/vdb-dump-orig.2.10.8\n",
            "sratoolkit.2.10.8-ubuntu64/bin/vdb-dump.2\n",
            "sratoolkit.2.10.8-ubuntu64/bin/vdb-dump.2.10.8\n",
            "sratoolkit.2.10.8-ubuntu64/bin/vdb-encrypt\n",
            "sratoolkit.2.10.8-ubuntu64/bin/vdb-encrypt.2\n",
            "sratoolkit.2.10.8-ubuntu64/bin/vdb-encrypt.2.10.8\n",
            "sratoolkit.2.10.8-ubuntu64/bin/vdb-lock\n",
            "sratoolkit.2.10.8-ubuntu64/bin/vdb-lock.2\n",
            "sratoolkit.2.10.8-ubuntu64/bin/vdb-lock.2.10.8\n",
            "sratoolkit.2.10.8-ubuntu64/bin/vdb-passwd\n",
            "sratoolkit.2.10.8-ubuntu64/bin/vdb-passwd.2\n",
            "sratoolkit.2.10.8-ubuntu64/bin/vdb-passwd.2.10.8\n",
            "sratoolkit.2.10.8-ubuntu64/bin/vdb-unlock\n",
            "sratoolkit.2.10.8-ubuntu64/bin/vdb-unlock.2\n",
            "sratoolkit.2.10.8-ubuntu64/bin/vdb-unlock.2.10.8\n",
            "sratoolkit.2.10.8-ubuntu64/bin/vdb-validate\n",
            "sratoolkit.2.10.8-ubuntu64/bin/vdb-validate.2\n",
            "sratoolkit.2.10.8-ubuntu64/bin/vdb-validate.2.10.8\n",
            "sratoolkit.2.10.8-ubuntu64/bin/blastn_vdb.2\n",
            "sratoolkit.2.10.8-ubuntu64/bin/blastn_vdb\n",
            "sratoolkit.2.10.8-ubuntu64/bin/tblastn_vdb.2\n",
            "sratoolkit.2.10.8-ubuntu64/bin/tblastn_vdb\n",
            "sratoolkit.2.10.8-ubuntu64/CHANGES\n"
          ]
        }
      ]
    },
    {
      "cell_type": "code",
      "metadata": {
        "id": "kIHjZmNByYee",
        "colab": {
          "base_uri": "https://localhost:8080/"
        },
        "outputId": "65a12488-2bc3-4e88-acb7-bd445a7917c2"
      },
      "source": [
        "cd /content/sratoolkit.2.10.8-ubuntu64/bin"
      ],
      "execution_count": 5,
      "outputs": [
        {
          "output_type": "stream",
          "name": "stdout",
          "text": [
            "/content/sratoolkit.2.10.8-ubuntu64/bin\n"
          ]
        }
      ]
    },
    {
      "cell_type": "markdown",
      "metadata": {
        "id": "JPhepTnNx4xz"
      },
      "source": [
        "Run this cell for a few moments and then stop. If you have the pro colab version, open the terminal and enter ./vdb-config --interactive (you do not need to have Google Pro to get this work, but you won't be able to see what the command acually does!)."
      ]
    },
    {
      "cell_type": "code",
      "metadata": {
        "id": "VJdJXQesyYQ0",
        "colab": {
          "base_uri": "https://localhost:8080/"
        },
        "outputId": "7dc8020a-6e0f-4910-8410-4cde792ad75b"
      },
      "source": [
        "%%bash\n",
        "./vdb-config --interactive "
      ],
      "execution_count": 6,
      "outputs": [
        {
          "output_type": "stream",
          "name": "stdout",
          "text": [
            "Process is terminated.\n"
          ]
        }
      ]
    },
    {
      "cell_type": "markdown",
      "source": [
        "Create a file with the list of accession ids, this can also be downloaded from the SRA un selector, https://www.ncbi.nlm.nih.gov/Traces/study/?query_key=4&WebEnv=MCID_621f50289e265b707022b90c&o=acc_s%3Aa\n",
        "\n",
        "In this example we are just using one file SRR13278772"
      ],
      "metadata": {
        "id": "kxHaxyt1aNLE"
      }
    },
    {
      "cell_type": "code",
      "metadata": {
        "id": "EoP5yB6nH9za"
      },
      "source": [
        "!echo -e > SRR_Acc_List.txt"
      ],
      "execution_count": 7,
      "outputs": []
    },
    {
      "cell_type": "markdown",
      "source": [
        "Open the file, it will be in the folder /content/sratoolkit.2.10.8-ubuntu64/bin\n",
        "\n",
        "add SRR13278772 to the file SRR_Acc_List.txt"
      ],
      "metadata": {
        "id": "47hK6-nzWFt2"
      }
    },
    {
      "cell_type": "code",
      "metadata": {
        "id": "1Wg-coeiyYEG",
        "colab": {
          "base_uri": "https://localhost:8080/"
        },
        "outputId": "6b96f1cc-262c-4695-88a9-a83406864794"
      },
      "source": [
        "#add the file list after option file\n",
        "%%bash\n",
        "./prefetch --option-file SRR_Acc_List.txt \n"
      ],
      "execution_count": 8,
      "outputs": [
        {
          "output_type": "stream",
          "name": "stdout",
          "text": [
            "\n",
            "2022-03-02T11:18:05 prefetch.2.10.8: 1) Downloading 'SRR13278772'...\n",
            "2022-03-02T11:18:05 prefetch.2.10.8:  Downloading via HTTPS...\n",
            "2022-03-02T11:18:05 prefetch.2.10.8:  HTTPS download succeed\n",
            "2022-03-02T11:18:05 prefetch.2.10.8:  'SRR13278772' is valid\n",
            "2022-03-02T11:18:05 prefetch.2.10.8: 1) 'SRR13278772' was downloaded successfully\n",
            "2022-03-02T11:18:05 prefetch.2.10.8: 'SRR13278772' has 0 unresolved dependencies\n"
          ]
        }
      ]
    },
    {
      "cell_type": "markdown",
      "source": [
        "##Make a new folder and move the SRA files"
      ],
      "metadata": {
        "id": "6Izus7FSentG"
      }
    },
    {
      "cell_type": "code",
      "metadata": {
        "id": "k7Lqz69kPyb3"
      },
      "source": [
        "!mkdir /content/sample_data/SRA"
      ],
      "execution_count": 9,
      "outputs": []
    },
    {
      "cell_type": "code",
      "metadata": {
        "id": "wjYuc2z1VB-1",
        "colab": {
          "base_uri": "https://localhost:8080/"
        },
        "outputId": "426e5604-9caa-4d3d-f241-73a0551f1ab4"
      },
      "source": [
        "cd /content/sample_data/SRA"
      ],
      "execution_count": 15,
      "outputs": [
        {
          "output_type": "stream",
          "name": "stdout",
          "text": [
            "/content/sample_data/SRA\n"
          ]
        }
      ]
    },
    {
      "cell_type": "code",
      "metadata": {
        "id": "FMo6GE_py1_T"
      },
      "source": [
        "import os\n",
        "import shutil\n",
        "location=\"/content/sratoolkit.2.10.8-ubuntu64/bin\"\n",
        "dst= \"/content/sample_data/SRA/\"\n",
        "for root, dir, files in os.walk(top=location):\n",
        "    for file in files:\n",
        "        if file.endswith(\".sra\"):  #match files that match this extension\n",
        "            shutil.move(os.path.join(root, file), dst)"
      ],
      "execution_count": 11,
      "outputs": []
    },
    {
      "cell_type": "markdown",
      "source": [
        "Files are downloaded in SRA format, so we use parallel fastq-dump, you will need to know if the files are single or paired end."
      ],
      "metadata": {
        "id": "f360OywwW3jo"
      }
    },
    {
      "cell_type": "markdown",
      "source": [
        "Paired end, uses split files, the files will appear in sample_data"
      ],
      "metadata": {
        "id": "HEjL7xxcXMgI"
      }
    },
    {
      "cell_type": "code",
      "metadata": {
        "id": "rKhc7oH7fc43"
      },
      "source": [
        "%%bash\n",
        "for f in in *.sra; do parallel-fastq-dump --sra-id $f --split-files --gzip --outdir /content/sample_data/; done"
      ],
      "execution_count": null,
      "outputs": []
    },
    {
      "cell_type": "markdown",
      "source": [
        "Single end"
      ],
      "metadata": {
        "id": "JnxW6pTZXJJk"
      }
    },
    {
      "cell_type": "code",
      "source": [
        "%%bash\n",
        "for f in in *.sra; do parallel-fastq-dump --sra-id $f --gzip --outdir /content/sample_data/; done"
      ],
      "metadata": {
        "id": "x-QOZ3KfWv3l"
      },
      "execution_count": null,
      "outputs": []
    },
    {
      "cell_type": "markdown",
      "metadata": {
        "id": "CYaHWOpVcEUY"
      },
      "source": [
        "# 3. EGA data\n",
        "To use the EGA, you will need to have access to the dataset you are interested in. There is usually an application process, depending on where the data is from"
      ]
    },
    {
      "cell_type": "markdown",
      "source": [
        "##Set up EGA"
      ],
      "metadata": {
        "id": "hX1P7gsRfGOG"
      }
    },
    {
      "cell_type": "code",
      "metadata": {
        "id": "SCd--6-Lrof8"
      },
      "source": [
        "!sudo pip3 install pyega3"
      ],
      "execution_count": null,
      "outputs": []
    },
    {
      "cell_type": "markdown",
      "source": [
        "You will need to add your username and password to the credential file"
      ],
      "metadata": {
        "id": "8vbzfpqaI-J7"
      }
    },
    {
      "cell_type": "code",
      "metadata": {
        "colab": {
          "base_uri": "https://localhost:8080/"
        },
        "id": "w95gl1ZuXw4G",
        "outputId": "91fd99dd-b9e8-4181-eec6-3a0fa554500d"
      },
      "source": [
        "!wget https://raw.githubusercontent.com/EGA-archive/ega-download-client/master/pyega3/config/default_credential_file.json"
      ],
      "execution_count": null,
      "outputs": [
        {
          "output_type": "stream",
          "text": [
            "--2021-03-04 19:13:23--  https://raw.githubusercontent.com/EGA-archive/ega-download-client/master/pyega3/config/default_credential_file.json\n",
            "Resolving raw.githubusercontent.com (raw.githubusercontent.com)... 185.199.108.133, 185.199.109.133, 185.199.110.133, ...\n",
            "Connecting to raw.githubusercontent.com (raw.githubusercontent.com)|185.199.108.133|:443... connected.\n",
            "HTTP request sent, awaiting response... 200 OK\n",
            "Length: 73 [text/plain]\n",
            "Saving to: ‘default_credential_file.json.2’\n",
            "\n",
            "\r          default_c   0%[                    ]       0  --.-KB/s               \rdefault_credential_ 100%[===================>]      73  --.-KB/s    in 0s      \n",
            "\n",
            "2021-03-04 19:13:23 (6.12 MB/s) - ‘default_credential_file.json.2’ saved [73/73]\n",
            "\n"
          ],
          "name": "stdout"
        }
      ]
    },
    {
      "cell_type": "markdown",
      "metadata": {
        "id": "KjB0VEcdVj41"
      },
      "source": [
        "Open the default_credential_file.json, change the username to YOUR ID, password to YOUR PASSWORD"
      ]
    },
    {
      "cell_type": "code",
      "metadata": {
        "colab": {
          "base_uri": "https://localhost:8080/"
        },
        "id": "r_FkyGD7Mr2A",
        "outputId": "2d17039b-a984-4605-db39-ef0f52818273"
      },
      "source": [
        "!pyega3 -cf /content/default_credential_file.json datasets\n"
      ],
      "execution_count": null,
      "outputs": [
        {
          "output_type": "stream",
          "text": [
            "[2021-03-04 21:11:11 +0000] \n",
            "[2021-03-04 21:11:11 +0000] pyEGA3 - EGA python client version 3.4.1 (https://github.com/EGA-archive/ega-download-client)\n",
            "[2021-03-04 21:11:11 +0000] Parts of this software are derived from pyEGA (https://github.com/blachlylab/pyega) by James Blachly\n",
            "[2021-03-04 21:11:11 +0000] Python version : 3.7.10\n",
            "[2021-03-04 21:11:11 +0000] OS version : Linux #1 SMP Thu Jul 23 08:00:38 PDT 2020\n",
            "[2021-03-04 21:11:11 +0000] Server URL: https://ega.ebi.ac.uk:8052/elixir/data\n",
            "[2021-03-04 21:11:11 +0000] Session-Id: 2874473315\n",
            "[2021-03-04 21:11:14 +0000] \n",
            "[2021-03-04 21:11:14 +0000] Authentication success for user 't.poolman@ucl.ac.uk'\n",
            "[2021-03-04 21:11:17 +0000] Dataset ID\n",
            "[2021-03-04 21:11:17 +0000] -----------------\n",
            "[2021-03-04 21:11:17 +0000] EGAD00001004449\n",
            "[2021-03-04 21:11:17 +0000] EGAD00001006959\n",
            "[2021-03-04 21:11:17 +0000] EGAD00001001991\n",
            "[2021-03-04 21:11:17 +0000] EGAD00001006953\n",
            "[2021-03-04 21:11:17 +0000] EGAD00001003453\n"
          ],
          "name": "stdout"
        }
      ]
    },
    {
      "cell_type": "markdown",
      "metadata": {
        "id": "-ESNlb5bXBUn"
      },
      "source": [
        "if the ega.txt is generated in windows, dos2unix is required"
      ]
    },
    {
      "cell_type": "code",
      "metadata": {
        "id": "q2NcYfkeVgN3"
      },
      "source": [
        "!sudo apt install dos2unix"
      ],
      "execution_count": null,
      "outputs": []
    },
    {
      "cell_type": "code",
      "metadata": {
        "colab": {
          "base_uri": "https://localhost:8080/"
        },
        "id": "VibZZ49NXKSR",
        "outputId": "1ff2e119-f901-409e-96d5-d1a98f75b112"
      },
      "source": [
        "cd /content/sample_data/"
      ],
      "execution_count": null,
      "outputs": [
        {
          "output_type": "stream",
          "text": [
            "/content/sample_data\n"
          ],
          "name": "stdout"
        }
      ]
    },
    {
      "cell_type": "code",
      "metadata": {
        "colab": {
          "base_uri": "https://localhost:8080/"
        },
        "id": "Q192AF2oV5VV",
        "outputId": "63bfec84-3555-4ade-eb56-872118fabdac"
      },
      "source": [
        "!dos2unix ega.txt"
      ],
      "execution_count": null,
      "outputs": [
        {
          "output_type": "stream",
          "text": [
            "dos2unix: converting file ega.txt to Unix format...\n"
          ],
          "name": "stdout"
        }
      ]
    },
    {
      "cell_type": "code",
      "metadata": {
        "colab": {
          "base_uri": "https://localhost:8080/"
        },
        "id": "eE-Ieum6J1vG",
        "outputId": "a3e6160f-35dd-463f-dcd2-71939dff39b1"
      },
      "source": [
        "%%bash\n",
        "for i in `cat ega.txt`; do pyega3 -cf /content/default_credential_file.json fetch EGAD00001003453; done"
      ],
      "execution_count": null,
      "outputs": [
        {
          "output_type": "stream",
          "text": [
            "IOPub data rate exceeded.\n",
            "The notebook server will temporarily stop sending output\n",
            "to the client in order to avoid crashing it.\n",
            "To change this limit, set the config variable\n",
            "`--NotebookApp.iopub_data_rate_limit`.\n",
            "\n",
            "Current values:\n",
            "NotebookApp.iopub_data_rate_limit=1000000.0 (bytes/sec)\n",
            "NotebookApp.rate_limit_window=3.0 (secs)\n",
            "\n"
          ],
          "name": "stderr"
        }
      ]
    },
    {
      "cell_type": "markdown",
      "source": [
        ""
      ],
      "metadata": {
        "id": "nXCFFPYQtsmg"
      }
    },
    {
      "cell_type": "markdown",
      "metadata": {
        "id": "gh6BfE9dZnce"
      },
      "source": [
        "##move files to sample_data"
      ]
    },
    {
      "cell_type": "code",
      "metadata": {
        "id": "7DCfH4_VVbcZ"
      },
      "source": [
        "import os\n",
        "import shutil\n",
        "location=\"/content/sample_data/\"\n",
        "dst= \"/content/\"\n",
        "for root, dir, files in os.walk(top=location):\n",
        "    for file in files:\n",
        "        if file.endswith(\".fq.gz\"):  #match files that match this extension\n",
        "            shutil.move(os.path.join(root, file), dst)"
      ],
      "execution_count": null,
      "outputs": []
    },
    {
      "cell_type": "markdown",
      "metadata": {
        "id": "qwK1gQlWu0_t"
      },
      "source": [
        "#4.DDBJ"
      ]
    },
    {
      "cell_type": "markdown",
      "source": [
        "###Use wget with -r to fetch all the data in for example ERA207"
      ],
      "metadata": {
        "id": "aBa2hxEefYVH"
      }
    },
    {
      "cell_type": "code",
      "metadata": {
        "id": "v3ZJ30DAo1si"
      },
      "source": [
        "!wget -r -np \"ftp://ftp.ddbj.nig.ac.jp/ddbj_database/dra/fastq/DRA004/DRA004160/\""
      ],
      "execution_count": null,
      "outputs": []
    },
    {
      "cell_type": "markdown",
      "metadata": {
        "id": "2i1HBS8UvLlI"
      },
      "source": [
        "##Create a folder called DRA, then move the files to the DRA folder"
      ]
    },
    {
      "cell_type": "code",
      "metadata": {
        "id": "tF6_SKpFtQ8p"
      },
      "source": [
        "!mkdir /content/DRA"
      ],
      "execution_count": null,
      "outputs": []
    },
    {
      "cell_type": "markdown",
      "source": [
        "in this example the location of the files are in \"/content/ftp.ddbj.nig.ac.jp/ddbj_database/dra/fastq/DRA004/DRA004160\" you will need to change this for the files you wish to fetch.\n",
        "\n",
        "---\n",
        "\n"
      ],
      "metadata": {
        "id": "OMhLiAcXPOGv"
      }
    },
    {
      "cell_type": "code",
      "metadata": {
        "id": "aEvGdonytEmQ"
      },
      "source": [
        "import os\n",
        "import shutil\n",
        "location=\"/content/ftp.ddbj.nig.ac.jp/ddbj_database/dra/fastq/DRA004/DRA004160\"\n",
        "dst= \"/content/DRA\"\n",
        "for root, dir, files in os.walk(top=location):\n",
        "    for file in files:\n",
        "        if file.endswith(\".bz2\"):  #match files that match this extension\n",
        "            shutil.move(os.path.join(root, file), dir_dst)"
      ],
      "execution_count": null,
      "outputs": []
    },
    {
      "cell_type": "code",
      "metadata": {
        "colab": {
          "base_uri": "https://localhost:8080/"
        },
        "id": "Fg3aI8fCtlHg",
        "outputId": "03b1ec85-4058-4d32-b3cb-255ad6227484"
      },
      "source": [
        "cd /content/DRA"
      ],
      "execution_count": null,
      "outputs": [
        {
          "output_type": "stream",
          "text": [
            "/content/DRA\n"
          ],
          "name": "stdout"
        }
      ]
    },
    {
      "cell_type": "markdown",
      "metadata": {
        "id": "2ZpEPB5RvYC4"
      },
      "source": [
        "##Unzip bz2 files"
      ]
    },
    {
      "cell_type": "markdown",
      "source": [
        "If the files are comparessed (Bz2), they can be coverted to gz if required."
      ],
      "metadata": {
        "id": "d40o5VVIf8OR"
      }
    },
    {
      "cell_type": "code",
      "metadata": {
        "id": "UIvgI8c2uNs0"
      },
      "source": [
        "%%bash\n",
        "for f in *.bz2; do bzip2 -d $f; done\n"
      ],
      "execution_count": null,
      "outputs": []
    },
    {
      "cell_type": "markdown",
      "metadata": {
        "id": "w59U8MbZvm5V"
      },
      "source": [
        "##gzip files"
      ]
    },
    {
      "cell_type": "code",
      "metadata": {
        "id": "BznPgc1ovXR_"
      },
      "source": [
        "%%bash\n",
        "for f in *.fastq; do gzip $f; done"
      ],
      "execution_count": null,
      "outputs": []
    },
    {
      "cell_type": "code",
      "metadata": {
        "id": "elXyQr5oWr7S"
      },
      "source": [
        "import os\n",
        "import shutil\n",
        "location=\"/content/DRA/\"\n",
        "dst= \"/content/sample_data/\"\n",
        "for root, dir, files in os.walk(top=location):\n",
        "    for file in files:\n",
        "        if file.endswith(\".fastq.gz\"):  #match files that match this extension\n",
        "            shutil.move(os.path.join(root, file), dst)"
      ],
      "execution_count": null,
      "outputs": []
    },
    {
      "cell_type": "markdown",
      "metadata": {
        "id": "dQrUCwvI8P96"
      },
      "source": [
        "# 5.Transfering data to Google buckets"
      ]
    },
    {
      "cell_type": "markdown",
      "source": [
        "You will need Google Cloud console account, data can also be transfered from the SRA via Google buckets.\n",
        "\n",
        "!gsutil cp **current_location** **desination_drive**"
      ],
      "metadata": {
        "id": "nRBKjK3WP_JS"
      }
    },
    {
      "cell_type": "code",
      "metadata": {
        "id": "knpwPT_wnV8s"
      },
      "source": [
        "from google.colab import auth\n",
        "auth.authenticate_user()"
      ],
      "execution_count": null,
      "outputs": []
    },
    {
      "cell_type": "code",
      "metadata": {
        "id": "aOG8PJgIm3ES"
      },
      "source": [
        "!gsutil -m cp /content/sample_data/*.gz  gs://example_drive/"
      ],
      "execution_count": null,
      "outputs": []
    },
    {
      "cell_type": "markdown",
      "source": [
        "# 6. Transfering to Google Drive"
      ],
      "metadata": {
        "id": "Tzi8M-ZFP5th"
      }
    },
    {
      "cell_type": "markdown",
      "source": [
        "To save files to your drive, authorise your drive and copy the files over.\n",
        "\n",
        "Make sure you put the correct location of your fastq.gz files and send to folder in your drive."
      ],
      "metadata": {
        "id": "IFR1Oz9SRxKR"
      }
    },
    {
      "cell_type": "code",
      "execution_count": 1,
      "metadata": {
        "colab": {
          "base_uri": "https://localhost:8080/"
        },
        "id": "DU8voMykpJ5l",
        "outputId": "6e6e5315-79ed-45f4-f310-c1163a112204"
      },
      "outputs": [
        {
          "output_type": "stream",
          "name": "stdout",
          "text": [
            "Mounted at /content/drive\n"
          ]
        }
      ],
      "source": [
        "from google.colab import drive\n",
        "drive.mount('/content/drive')"
      ]
    },
    {
      "cell_type": "code",
      "source": [
        "!gsutil -m cp /content/sample_data/*.gz  /content/drive/MyDrive/"
      ],
      "metadata": {
        "id": "E9DLrrI3RdEN"
      },
      "execution_count": null,
      "outputs": []
    }
  ]
}